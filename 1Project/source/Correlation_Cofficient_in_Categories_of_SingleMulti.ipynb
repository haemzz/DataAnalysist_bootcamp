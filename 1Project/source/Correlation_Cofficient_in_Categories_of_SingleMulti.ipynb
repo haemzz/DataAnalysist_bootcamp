{
 "cells": [
  {
   "cell_type": "code",
   "execution_count": 1,
   "id": "a67e7b15",
   "metadata": {},
   "outputs": [],
   "source": [
    "import pandas as pd\n",
    "import os, ast\n",
    "\n",
    "from glob import glob\n",
    "from tqdm import tqdm"
   ]
  },
  {
   "cell_type": "code",
   "execution_count": 2,
   "id": "383b9f4d",
   "metadata": {},
   "outputs": [],
   "source": [
    "import warnings\n",
    "warnings.filterwarnings('ignore')"
   ]
  },
  {
   "cell_type": "markdown",
   "id": "c5a024ca",
   "metadata": {},
   "source": [
    "## 데이터셋 가져오기"
   ]
  },
  {
   "cell_type": "code",
   "execution_count": 3,
   "id": "ad19d3b5",
   "metadata": {},
   "outputs": [
    {
     "name": "stdout",
     "output_type": "stream",
     "text": [
      "4\n"
     ]
    }
   ],
   "source": [
    "# 각 데이터 가져오기(싱글 판매량/인기순위, 멀티 판매량/인기순위 총 4개)\n",
    "data_path_list = glob('./find_datas/output/*info.xlsx')\n",
    "print(len(data_path_list))"
   ]
  },
  {
   "cell_type": "markdown",
   "id": "db08ed72",
   "metadata": {},
   "source": [
    "## 싱글/멀티 판매량인기순위 별 게임의 카테고리 카운트하기"
   ]
  },
  {
   "cell_type": "code",
   "execution_count": 4,
   "id": "92ae9e48",
   "metadata": {},
   "outputs": [
    {
     "name": "stdout",
     "output_type": "stream",
     "text": [
      "multi_top_rated_info\n",
      "[('Multiplayer', 107), ('Action', 99), ('Co-op', 82), ('Singleplayer', 73), ('First-Person', 62), ('Online Co-Op', 60), ('Adventure', 56), ('Open World', 48), ('Indie', 47), ('Atmospheric', 44), ('Shooter', 41), ('FPS', 40), ('Simulation', 39), ('Survival', 36), ('Sandbox', 34), ('Strategy', 32), ('PvP', 30), ('Funny', 30), ('Great Soundtrack', 26), ('Tactical', 25)]\n",
      "========================================\n",
      "multi_top_seller_info\n",
      "[('Multiplayer', 105), ('Action', 83), ('Singleplayer', 81), ('Co-op', 78), ('Online Co-Op', 54), ('Adventure', 53), ('Open World', 50), ('First-Person', 45), ('Simulation', 37), ('Atmospheric', 37), ('Shooter', 34), ('PvP', 34), ('Sandbox', 34), ('FPS', 31), ('Survival', 31), ('Strategy', 31), ('Third Person', 29), ('RPG', 26), ('Indie', 26), ('Tactical', 25)]\n",
      "========================================\n",
      "single_top_rated_info\n",
      "[('Singleplayer', 104), ('Adventure', 85), ('Action', 79), ('Atmospheric', 66), ('Story Rich', 63), ('Great Soundtrack', 54), ('Indie', 47), ('Open World', 43), ('Multiplayer', 37), ('First-Person', 37), ('Horror', 33), ('RPG', 32), ('Third Person', 32), ('Exploration', 30), ('Puzzle', 29), ('Strategy', 26), ('Sci-fi', 26), ('2D', 25), ('Difficult', 25), ('Funny', 25)]\n",
      "========================================\n",
      "single_top_seller_info\n",
      "[('Singleplayer', 104), ('Action', 76), ('Multiplayer', 63), ('Adventure', 57), ('Open World', 49), ('Great Soundtrack', 48), ('Atmospheric', 45), ('Story Rich', 41), ('RPG', 39), ('Co-op', 37), ('Third Person', 31), ('First-Person', 30), ('Simulation', 30), ('Violent', 29), ('Strategy', 29), ('Exploration', 27), ('Sandbox', 27), ('Gore', 25), ('Character Customization', 23), ('Online Co-Op', 22)]\n",
      "========================================\n",
      "가져온 데이터프레임의 형식: \n",
      "         game_name  game_id  \\\n",
      "0  Hogwarts_Legacy   990080   \n",
      "1       ELDEN_RING  1245620   \n",
      "\n",
      "                                       game_category  \\\n",
      "0  ['Magic', 'Fantasy', 'Open World', 'Singleplay...   \n",
      "1  ['Souls-like', 'Dark Fantasy', 'RPG', 'Open Wo...   \n",
      "\n",
      "                                           game_link  \n",
      "0  https://store.steampowered.com/app/990080/Hogw...  \n",
      "1  https://store.steampowered.com/app/1245620/ELD...  \n"
     ]
    }
   ],
   "source": [
    "# 데이터별 모든 카테고리의 수 카운트하기\n",
    "data_dict = {}\n",
    "\n",
    "# 4개의 데이터 모두 같은 방식을 사용 -> for문 활용\n",
    "for path in data_path_list:\n",
    "    # 카테고리 카운트 할 빈 디렉토리 사용\n",
    "    cat_dict = {}\n",
    "    # 데이터 만들기\n",
    "    df = pd.read_excel(path)\n",
    "    \n",
    "    for index in df.index:\n",
    "        # 카테고리 데이터가 리스트 형식의 문자열( '[n,n,...]' )로 되어있기 때문에 ast 라이브러리 이용하여 리스트로 출력\n",
    "        cats = ast.literal_eval(df.loc[index,'game_category'])\n",
    "        # 카테고리 카운트\n",
    "        for cat in cats:\n",
    "            try:\n",
    "                # 해당 카테고리가 키값으로 존재하면 거기에 +1\n",
    "                cat_dict[cat] += 1\n",
    "            except:\n",
    "                # 해당 키값이 없으면 키값 생성\n",
    "                cat_dict[cat] = 1\n",
    "    \n",
    "    # 키값으로 쓸 파일 이름 가져오기(os 라이브러리 이용)\n",
    "    base_name = os.path.basename(path) # 해당 경로의 마지막 부분(파일이름+확장자) 가져오는 함수\n",
    "    file_name = os.path.splitext(base_name)[0] # 확장자 부분 잘라주는 함수\n",
    "    \n",
    "    # 출력용으로 딕셔너리 데이터 정렬  # 리스트타입\n",
    "    cat_dict2 = sorted(cat_dict.items(), key=lambda x: x[1],reverse=True)\n",
    "    \n",
    "    # data_dict에 파일이름을 키값으로 데이터 저장\n",
    "    data_dict[file_name] = cat_dict\n",
    "    \n",
    "    # 파일 이름과 해당 데이터인 cat_dict2 출력\n",
    "    print(file_name)\n",
    "    print(cat_dict2[:20])\n",
    "    print('=='*20)\n",
    "\n",
    "print('가져온 데이터프레임의 형식: ')\n",
    "print(df.head(2))"
   ]
  },
  {
   "cell_type": "markdown",
   "id": "f1a99547",
   "metadata": {},
   "source": [
    "## 데이터프레임 만들기"
   ]
  },
  {
   "cell_type": "code",
   "execution_count": 5,
   "id": "b4f9ce8d",
   "metadata": {},
   "outputs": [],
   "source": [
    "# 딕셔너리를 데이터프레임으로 만들어주기(transpose로 행과 열 바꿔주기)\n",
    "data_df = pd.DataFrame(data_dict).transpose()\n",
    "\n",
    "# 가장 보고싶은 컬럼 Multiplayer, Singleplayer 둘을 앞으로 빼주기\n",
    "MS_df = data_df[['Multiplayer','Singleplayer']].copy()\n",
    "NMG_df = data_df[data_df.columns.drop(['Multiplayer','Singleplayer'])].copy()\n",
    "result_df = pd.concat([MS_df,NMG_df],axis = 1)\n",
    "\n",
    "# Nan 값을 0으로 채워주기\n",
    "result_df.fillna(0,inplace=True)"
   ]
  },
  {
   "cell_type": "code",
   "execution_count": 6,
   "id": "9b8b95c6",
   "metadata": {},
   "outputs": [
    {
     "data": {
      "text/html": [
       "<div>\n",
       "<style scoped>\n",
       "    .dataframe tbody tr th:only-of-type {\n",
       "        vertical-align: middle;\n",
       "    }\n",
       "\n",
       "    .dataframe tbody tr th {\n",
       "        vertical-align: top;\n",
       "    }\n",
       "\n",
       "    .dataframe thead th {\n",
       "        text-align: right;\n",
       "    }\n",
       "</style>\n",
       "<table border=\"1\" class=\"dataframe\">\n",
       "  <thead>\n",
       "    <tr style=\"text-align: right;\">\n",
       "      <th></th>\n",
       "      <th>FPS</th>\n",
       "      <th>Shooter</th>\n",
       "      <th>Competitive</th>\n",
       "      <th>Action</th>\n",
       "      <th>Team-Based</th>\n",
       "      <th>eSports</th>\n",
       "      <th>Tactical</th>\n",
       "      <th>First-Person</th>\n",
       "      <th>PvP</th>\n",
       "      <th>Online Co-Op</th>\n",
       "      <th>...</th>\n",
       "      <th>NSFW</th>\n",
       "      <th>Dystopian</th>\n",
       "      <th>Gothic</th>\n",
       "      <th>Sequel</th>\n",
       "      <th>Cult Classic</th>\n",
       "      <th>Mouse only</th>\n",
       "      <th>Utilities</th>\n",
       "      <th>Software</th>\n",
       "      <th>Photo Editing</th>\n",
       "      <th>Game Development</th>\n",
       "    </tr>\n",
       "  </thead>\n",
       "  <tbody>\n",
       "    <tr>\n",
       "      <th>multi_top_rated_info</th>\n",
       "      <td>40.0</td>\n",
       "      <td>41.0</td>\n",
       "      <td>15.0</td>\n",
       "      <td>99.0</td>\n",
       "      <td>20.0</td>\n",
       "      <td>8.0</td>\n",
       "      <td>25.0</td>\n",
       "      <td>62.0</td>\n",
       "      <td>30.0</td>\n",
       "      <td>60.0</td>\n",
       "      <td>...</td>\n",
       "      <td>0.0</td>\n",
       "      <td>0.0</td>\n",
       "      <td>0.0</td>\n",
       "      <td>0.0</td>\n",
       "      <td>0.0</td>\n",
       "      <td>0.0</td>\n",
       "      <td>0.0</td>\n",
       "      <td>0.0</td>\n",
       "      <td>0.0</td>\n",
       "      <td>0.0</td>\n",
       "    </tr>\n",
       "    <tr>\n",
       "      <th>multi_top_seller_info</th>\n",
       "      <td>31.0</td>\n",
       "      <td>34.0</td>\n",
       "      <td>11.0</td>\n",
       "      <td>83.0</td>\n",
       "      <td>16.0</td>\n",
       "      <td>9.0</td>\n",
       "      <td>25.0</td>\n",
       "      <td>45.0</td>\n",
       "      <td>34.0</td>\n",
       "      <td>54.0</td>\n",
       "      <td>...</td>\n",
       "      <td>0.0</td>\n",
       "      <td>0.0</td>\n",
       "      <td>0.0</td>\n",
       "      <td>0.0</td>\n",
       "      <td>0.0</td>\n",
       "      <td>0.0</td>\n",
       "      <td>0.0</td>\n",
       "      <td>0.0</td>\n",
       "      <td>0.0</td>\n",
       "      <td>0.0</td>\n",
       "    </tr>\n",
       "  </tbody>\n",
       "</table>\n",
       "<p>2 rows × 340 columns</p>\n",
       "</div>"
      ],
      "text/plain": [
       "                        FPS  Shooter  Competitive  Action  Team-Based  \\\n",
       "multi_top_rated_info   40.0     41.0         15.0    99.0        20.0   \n",
       "multi_top_seller_info  31.0     34.0         11.0    83.0        16.0   \n",
       "\n",
       "                       eSports  Tactical  First-Person   PvP  Online Co-Op  \\\n",
       "multi_top_rated_info       8.0      25.0          62.0  30.0          60.0   \n",
       "multi_top_seller_info      9.0      25.0          45.0  34.0          54.0   \n",
       "\n",
       "                       ...  NSFW  Dystopian   Gothic  Sequel  Cult Classic  \\\n",
       "multi_top_rated_info   ...   0.0         0.0     0.0     0.0           0.0   \n",
       "multi_top_seller_info  ...   0.0         0.0     0.0     0.0           0.0   \n",
       "\n",
       "                       Mouse only  Utilities  Software  Photo Editing  \\\n",
       "multi_top_rated_info          0.0        0.0       0.0            0.0   \n",
       "multi_top_seller_info         0.0        0.0       0.0            0.0   \n",
       "\n",
       "                       Game Development  \n",
       "multi_top_rated_info                0.0  \n",
       "multi_top_seller_info               0.0  \n",
       "\n",
       "[2 rows x 340 columns]"
      ]
     },
     "execution_count": 6,
     "metadata": {},
     "output_type": "execute_result"
    }
   ],
   "source": [
    "# 만들어진 데이터 프레임 중 멀티플레이어 카테고리 인덱스만 가져오기/ Multiplayer 컬럼 지워주기\n",
    "multi_df = result_df.loc[['multi_top_rated_info','multi_top_seller_info'],data_df.columns.drop(['Multiplayer'])].copy()\n",
    "multi_df"
   ]
  },
  {
   "cell_type": "code",
   "execution_count": 7,
   "id": "76a0c70a",
   "metadata": {},
   "outputs": [
    {
     "data": {
      "text/html": [
       "<div>\n",
       "<style scoped>\n",
       "    .dataframe tbody tr th:only-of-type {\n",
       "        vertical-align: middle;\n",
       "    }\n",
       "\n",
       "    .dataframe tbody tr th {\n",
       "        vertical-align: top;\n",
       "    }\n",
       "\n",
       "    .dataframe thead th {\n",
       "        text-align: right;\n",
       "    }\n",
       "</style>\n",
       "<table border=\"1\" class=\"dataframe\">\n",
       "  <thead>\n",
       "    <tr style=\"text-align: right;\">\n",
       "      <th></th>\n",
       "      <th>FPS</th>\n",
       "      <th>Shooter</th>\n",
       "      <th>Multiplayer</th>\n",
       "      <th>Competitive</th>\n",
       "      <th>Action</th>\n",
       "      <th>Team-Based</th>\n",
       "      <th>eSports</th>\n",
       "      <th>Tactical</th>\n",
       "      <th>First-Person</th>\n",
       "      <th>PvP</th>\n",
       "      <th>...</th>\n",
       "      <th>NSFW</th>\n",
       "      <th>Dystopian</th>\n",
       "      <th>Gothic</th>\n",
       "      <th>Sequel</th>\n",
       "      <th>Cult Classic</th>\n",
       "      <th>Mouse only</th>\n",
       "      <th>Utilities</th>\n",
       "      <th>Software</th>\n",
       "      <th>Photo Editing</th>\n",
       "      <th>Game Development</th>\n",
       "    </tr>\n",
       "  </thead>\n",
       "  <tbody>\n",
       "    <tr>\n",
       "      <th>single_top_rated_info</th>\n",
       "      <td>23.0</td>\n",
       "      <td>21.0</td>\n",
       "      <td>37.0</td>\n",
       "      <td>1.0</td>\n",
       "      <td>79.0</td>\n",
       "      <td>2.0</td>\n",
       "      <td>1.0</td>\n",
       "      <td>8.0</td>\n",
       "      <td>37.0</td>\n",
       "      <td>6.0</td>\n",
       "      <td>...</td>\n",
       "      <td>0.0</td>\n",
       "      <td>0.0</td>\n",
       "      <td>0.0</td>\n",
       "      <td>0.0</td>\n",
       "      <td>0.0</td>\n",
       "      <td>0.0</td>\n",
       "      <td>0.0</td>\n",
       "      <td>0.0</td>\n",
       "      <td>0.0</td>\n",
       "      <td>0.0</td>\n",
       "    </tr>\n",
       "    <tr>\n",
       "      <th>single_top_seller_info</th>\n",
       "      <td>19.0</td>\n",
       "      <td>22.0</td>\n",
       "      <td>63.0</td>\n",
       "      <td>7.0</td>\n",
       "      <td>76.0</td>\n",
       "      <td>2.0</td>\n",
       "      <td>6.0</td>\n",
       "      <td>11.0</td>\n",
       "      <td>30.0</td>\n",
       "      <td>13.0</td>\n",
       "      <td>...</td>\n",
       "      <td>3.0</td>\n",
       "      <td>1.0</td>\n",
       "      <td>1.0</td>\n",
       "      <td>1.0</td>\n",
       "      <td>1.0</td>\n",
       "      <td>1.0</td>\n",
       "      <td>1.0</td>\n",
       "      <td>1.0</td>\n",
       "      <td>1.0</td>\n",
       "      <td>1.0</td>\n",
       "    </tr>\n",
       "  </tbody>\n",
       "</table>\n",
       "<p>2 rows × 340 columns</p>\n",
       "</div>"
      ],
      "text/plain": [
       "                         FPS  Shooter  Multiplayer  Competitive  Action  \\\n",
       "single_top_rated_info   23.0     21.0         37.0          1.0    79.0   \n",
       "single_top_seller_info  19.0     22.0         63.0          7.0    76.0   \n",
       "\n",
       "                        Team-Based  eSports  Tactical  First-Person   PvP  \\\n",
       "single_top_rated_info          2.0      1.0       8.0          37.0   6.0   \n",
       "single_top_seller_info         2.0      6.0      11.0          30.0  13.0   \n",
       "\n",
       "                        ...  NSFW  Dystopian   Gothic  Sequel  Cult Classic  \\\n",
       "single_top_rated_info   ...   0.0         0.0     0.0     0.0           0.0   \n",
       "single_top_seller_info  ...   3.0         1.0     1.0     1.0           1.0   \n",
       "\n",
       "                        Mouse only  Utilities  Software  Photo Editing  \\\n",
       "single_top_rated_info          0.0        0.0       0.0            0.0   \n",
       "single_top_seller_info         1.0        1.0       1.0            1.0   \n",
       "\n",
       "                        Game Development  \n",
       "single_top_rated_info                0.0  \n",
       "single_top_seller_info               1.0  \n",
       "\n",
       "[2 rows x 340 columns]"
      ]
     },
     "execution_count": 7,
     "metadata": {},
     "output_type": "execute_result"
    }
   ],
   "source": [
    "# 만들어진 데이터 프레임 중 싱글플레이어 카테고리 인덱스만 가져오기 / Singleplayer 컬럼 지워주기\n",
    "single_df = result_df.loc[['single_top_rated_info','single_top_seller_info'],data_df.columns.drop(['Singleplayer'])].copy()\n",
    "single_df"
   ]
  },
  {
   "cell_type": "markdown",
   "id": "076ae682",
   "metadata": {},
   "source": [
    "## 데이터 분석\n",
    "### 유클리디안 거리: 피타고라스 정의 이용하여 유사성 체크, 값이 낮을수록(거리가 가까울수록) 유사함  \n",
    "np.linalg.norm  "
   ]
  },
  {
   "cell_type": "code",
   "execution_count": 8,
   "id": "a42031eb",
   "metadata": {},
   "outputs": [
    {
     "name": "stdout",
     "output_type": "stream",
     "text": [
      "91.67333309092672\n",
      "====================\n",
      "62.49799996799898\n"
     ]
    }
   ],
   "source": [
    "import numpy as np\n",
    "\n",
    "# 변수 만들어주기\n",
    "a1,b1 = single_df.iloc[0], single_df.iloc[1]\n",
    "a2,b2 = multi_df.iloc[0], multi_df.iloc[1]\n",
    "\n",
    "# 싱글 플레이어 판매량/인기순위 간 유사성 구하기\n",
    "single_dist = np.linalg.norm(a1 - b1)\n",
    "\n",
    "# 멀티 플레이어 판매량/인기순위 간 유사성 구하기\n",
    "multi_dist = np.linalg.norm(a2 - b2)\n",
    "\n",
    "# 출력하기\n",
    "print(single_dist)\n",
    "print('=='*10)\n",
    "print(multi_dist)"
   ]
  },
  {
   "cell_type": "markdown",
   "id": "ad7148bf",
   "metadata": {},
   "source": [
    "### 상관분석\n",
    "#### 카테고리 정리하기\n",
    "데이터프레임의 컬럼(카테고리)은 총 341개이므로 이 중 상관관계가 아주 낮지 않은 것들로 가져온다"
   ]
  },
  {
   "cell_type": "code",
   "execution_count": 9,
   "id": "22d94f69",
   "metadata": {},
   "outputs": [],
   "source": [
    "# 카운트가 11 미만인 카테고리를 drop_list에 추가한다.\n",
    "drop_list = []\n",
    "for column in single_df.columns:\n",
    "    if single_df[column][0] < 11 and single_df[column][1] < 11:\n",
    "        drop_list.append(column)\n",
    "        \n",
    "drop_list2 = []\n",
    "for column in multi_df.columns:\n",
    "    if multi_df[column][0] < 11 and multi_df[column][1] < 11:\n",
    "        drop_list2.append(column)"
   ]
  },
  {
   "cell_type": "code",
   "execution_count": 10,
   "id": "92410bf6",
   "metadata": {},
   "outputs": [
    {
     "name": "stdout",
     "output_type": "stream",
     "text": [
      "(2, 67)\n",
      "(2, 59)\n"
     ]
    }
   ],
   "source": [
    "# drop_list를 제거한 데이터 프레임을 가져온다.\n",
    "single_cc_df = single_df.loc[:,single_df.columns.drop(drop_list)].copy()\n",
    "multi_cc_df = multi_df.loc[:,multi_df.columns.drop(drop_list2)].copy()\n",
    "print(single_cc_df.shape)\n",
    "print(multi_cc_df.shape)"
   ]
  },
  {
   "cell_type": "code",
   "execution_count": 11,
   "id": "045cf556",
   "metadata": {},
   "outputs": [],
   "source": [
    "# 앞서 지워주었던 Singleplayer 컬럼의 값을 입력한다( 최초의 값과 동일하게 )\n",
    "single_cc_df['Singleplayer'] = 104"
   ]
  },
  {
   "cell_type": "code",
   "execution_count": 12,
   "id": "9ee38295",
   "metadata": {},
   "outputs": [
    {
     "data": {
      "text/plain": [
       "array([0.10096154, 0.10336538, 0.24038462, 0.37259615, 0.04567308,\n",
       "       0.16105769, 0.04567308, 0.06971154, 0.12740385, 0.13221154,\n",
       "       0.04567308, 0.10817308, 0.06009615, 0.05528846, 0.03365385,\n",
       "       0.17067308, 0.09134615, 0.08653846, 0.0625    , 0.08173077,\n",
       "       0.12740385, 0.11778846, 0.10096154, 0.10576923, 0.34134615,\n",
       "       0.05769231, 0.13701923, 0.22115385, 0.16586538, 0.04086538,\n",
       "       0.26682692, 0.15144231, 0.05288462, 0.08413462, 0.24519231,\n",
       "       0.04326923, 0.04807692, 0.12980769, 0.11298077, 0.05769231,\n",
       "       0.05048077, 0.06490385, 0.09134615, 0.07211538, 0.06490385,\n",
       "       0.0625    , 0.05769231, 0.04807692, 0.04567308, 0.11538462,\n",
       "       0.05288462, 0.04086538, 0.05288462, 0.25      , 0.07692308,\n",
       "       0.11778846, 0.05288462, 0.08173077, 0.07211538, 0.05769231,\n",
       "       0.04086538, 0.05048077, 0.06009615, 0.05288462, 0.0625    ,\n",
       "       0.05048077, 0.05769231])"
      ]
     },
     "execution_count": 12,
     "metadata": {},
     "output_type": "execute_result"
    }
   ],
   "source": [
    "# Singleplayer 컬럼(싱글 플레이어의 기준값)과 나머지 컬럼간의 기울기를 구한다.\n",
    "np.polyfit(single_cc_df['Singleplayer'],single_cc_df.loc[:,single_cc_df.columns.drop(['Singleplayer'])], 1)[0] # 0은 기울기, 1은 절편"
   ]
  },
  {
   "cell_type": "code",
   "execution_count": 13,
   "id": "70518411",
   "metadata": {},
   "outputs": [
    {
     "name": "stdout",
     "output_type": "stream",
     "text": [
      "[[1.         0.85768677]\n",
      " [0.85768677 1.        ]]\n"
     ]
    }
   ],
   "source": [
    "# 판매량/인기순위 간 상관관계 분석을 위해 데이터프레임의 행과 열을 바꾸어준다.\n",
    "trans_single_cc_df = single_cc_df.transpose()\n",
    "\n",
    "# 판매량/인기순위 간 상관관계분석\n",
    "single_CC = np.corrcoef(trans_single_cc_df.iloc[:,0],trans_single_cc_df.iloc[:,1])\n",
    "print(single_CC)"
   ]
  },
  {
   "cell_type": "code",
   "execution_count": 14,
   "id": "7fbe3324",
   "metadata": {},
   "outputs": [],
   "source": [
    "# Multiplayer 컬럼값을 설정해준다.\n",
    "multi_cc_df['Multiplayer'] = 105"
   ]
  },
  {
   "cell_type": "code",
   "execution_count": 15,
   "id": "376220be",
   "metadata": {},
   "outputs": [
    {
     "data": {
      "text/plain": [
       "array([0.16904762, 0.17857143, 0.06190476, 0.43333333, 0.08571429,\n",
       "       0.11904762, 0.2547619 , 0.15238095, 0.27142857, 0.38095238,\n",
       "       0.15      , 0.06190476, 0.07619048, 0.09285714, 0.09761905,\n",
       "       0.06190476, 0.06428571, 0.11190476, 0.05952381, 0.08809524,\n",
       "       0.18095238, 0.06666667, 0.16190476, 0.15952381, 0.06904762,\n",
       "       0.25952381, 0.10238095, 0.08333333, 0.10238095, 0.23333333,\n",
       "       0.17380952, 0.36666667, 0.03809524, 0.19285714, 0.12142857,\n",
       "       0.05      , 0.10952381, 0.12142857, 0.0547619 , 0.08571429,\n",
       "       0.05      , 0.07619048, 0.10238095, 0.05952381, 0.06428571,\n",
       "       0.06428571, 0.08571429, 0.1047619 , 0.07619048, 0.05714286,\n",
       "       0.05952381, 0.07857143, 0.08571429, 0.07380952, 0.04761905,\n",
       "       0.0547619 , 0.04761905, 0.03571429, 0.03333333])"
      ]
     },
     "execution_count": 15,
     "metadata": {},
     "output_type": "execute_result"
    }
   ],
   "source": [
    "# Multiplayer 컬럼(싱글 플레이어의 기준값)과 나머지 컬럼간의 기울기를 구한다.\n",
    "np.polyfit(multi_cc_df['Multiplayer'],multi_cc_df.loc[:,multi_cc_df.columns.drop(['Multiplayer'])], 1)[0] # 0은 기울기, 1은 절편"
   ]
  },
  {
   "cell_type": "code",
   "execution_count": 16,
   "id": "8449dec0",
   "metadata": {},
   "outputs": [
    {
     "name": "stdout",
     "output_type": "stream",
     "text": [
      "[[1.         0.94637776]\n",
      " [0.94637776 1.        ]]\n"
     ]
    }
   ],
   "source": [
    "# 판매량/인기순위 간 상관관계 분석을 위해 데이터프레임의 행과 열을 바꾸어준다.\n",
    "trans_multi_cc_df = multi_cc_df.transpose()\n",
    "\n",
    "# 판매량/인기순위 간 상관관계분석\n",
    "multi_CC = np.corrcoef(trans_multi_cc_df.iloc[:,0],trans_multi_cc_df.iloc[:,1])\n",
    "print(multi_CC)"
   ]
  },
  {
   "cell_type": "code",
   "execution_count": 17,
   "id": "e1824a37",
   "metadata": {},
   "outputs": [
    {
     "name": "stdout",
     "output_type": "stream",
     "text": [
      "3 \"Action\" 카테고리의 상관관계 값 0.4333333333333332\n",
      "6 \"First-Person\" 카테고리의 상관관계 값 0.2547619047619048\n",
      "8 \"Online Co-Op\" 카테고리의 상관관계 값 0.2714285714285714\n",
      "9 \"Co-op\" 카테고리의 상관관계 값 0.38095238095238093\n",
      "25 \"Adventure\" 카테고리의 상관관계 값 0.2595238095238095\n",
      "29 \"Open World\" 카테고리의 상관관계 값 0.2333333333333334\n",
      "31 \"Singleplayer\" 카테고리의 상관관계 값 0.3666666666666667\n"
     ]
    }
   ],
   "source": [
    "# 컬럼 간 상관도가 높은 컬럼을 출력한다\n",
    "x = np.polyfit(multi_cc_df['Multiplayer'],multi_cc_df.loc[:,multi_cc_df.columns.drop(['Multiplayer'])], 1)[0]\n",
    "for i, n in enumerate(x):\n",
    "    if n > 0.2:\n",
    "        print(f'{i} \"{multi_cc_df.columns[i]}\" 카테고리의 상관관계 값 {n}')\n",
    "        "
   ]
  },
  {
   "cell_type": "code",
   "execution_count": 18,
   "id": "a7baf21e",
   "metadata": {},
   "outputs": [
    {
     "name": "stdout",
     "output_type": "stream",
     "text": [
      "2 \"Multiplayer\" 카테고리의 상관관계 값 0.2403846153846153\n",
      "3 \"Action\" 카테고리의 상관관계 값 0.3725961538461538\n",
      "24 \"Adventure\" 카테고리의 상관관계 값 0.34134615384615374\n",
      "27 \"Open World\" 카테고리의 상관관계 값 0.22115384615384617\n",
      "30 \"Atmospheric\" 카테고리의 상관관계 값 0.2668269230769231\n",
      "34 \"Great Soundtrack\" 카테고리의 상관관계 값 0.24519230769230774\n",
      "53 \"Story Rich\" 카테고리의 상관관계 값 0.25\n"
     ]
    }
   ],
   "source": [
    "# 기울기 값\n",
    "x = np.polyfit(single_cc_df['Singleplayer'],single_cc_df.loc[:,single_cc_df.columns.drop(['Singleplayer'])], 1)[0]\n",
    "for i, n in enumerate(x):\n",
    "    if n > 0.2:\n",
    "        print(f'{i} \"{single_cc_df.columns[i]}\" 카테고리의 상관관계 값 {n}')"
   ]
  },
  {
   "cell_type": "markdown",
   "id": "bc2784a0",
   "metadata": {},
   "source": [
    "### 피어슨"
   ]
  },
  {
   "cell_type": "code",
   "execution_count": 19,
   "id": "4c4e18c2",
   "metadata": {},
   "outputs": [
    {
     "data": {
      "text/plain": [
       "PearsonRResult(statistic=nan, pvalue=nan)"
      ]
     },
     "execution_count": 19,
     "metadata": {},
     "output_type": "execute_result"
    }
   ],
   "source": [
    "import scipy.stats as stats\n",
    "stats.pearsonr(single_cc_df.loc[:,single_cc_df.columns.drop(['Singleplayer'])],single_cc_df['Singleplayer'])"
   ]
  }
 ],
 "metadata": {
  "kernelspec": {
   "display_name": "Python 3 (ipykernel)",
   "language": "python",
   "name": "python3"
  },
  "language_info": {
   "codemirror_mode": {
    "name": "ipython",
    "version": 3
   },
   "file_extension": ".py",
   "mimetype": "text/x-python",
   "name": "python",
   "nbconvert_exporter": "python",
   "pygments_lexer": "ipython3",
   "version": "3.10.9"
  }
 },
 "nbformat": 4,
 "nbformat_minor": 5
}
