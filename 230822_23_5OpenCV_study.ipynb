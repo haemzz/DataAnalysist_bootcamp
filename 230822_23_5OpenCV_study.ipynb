{
 "cells": [
  {
   "cell_type": "markdown",
   "id": "370cd336",
   "metadata": {},
   "source": [
    "### 해보고 싶은거:\n",
    "- 그레이 필터에서 원하는 색상만 가져오는 코드\n",
    "- → 복제로 가야겠다..\n",
    "- RGB 표시하는 거 가져와서\n",
    "- 해당 부분의 색깔만 남기고 나머지는 회색처리..\n",
    "- 슬라이싱으로 해당 부분만 제외할 수 있나?"
   ]
  },
  {
   "cell_type": "markdown",
   "id": "b2995fc3",
   "metadata": {},
   "source": [
    "### 회색 이미지는 2차원, 3차원 회색이미지로 만들고 싶으면 bgr2gray 후 다시 gray2bgr 하기!"
   ]
  },
  {
   "cell_type": "code",
   "execution_count": 1,
   "id": "bb211090",
   "metadata": {},
   "outputs": [],
   "source": [
    "import cv2\n",
    "import numpy as np"
   ]
  },
  {
   "cell_type": "code",
   "execution_count": 2,
   "id": "51011cf0",
   "metadata": {},
   "outputs": [],
   "source": [
    "img = cv2.imread('../textbook/img/cube.jpg')      # 이미지를 로드합니다.\n",
    "gray_img = cv2.cvtColor(img, cv2.COLOR_BGR2GRAY)  # 이미지를 그레이스케일로 변환합니다.\n",
    "\n",
    "# 그레이스케일 이미지를 3채널 회색 이미지로 변환합니다.\n",
    "gray_img_3channel = cv2.cvtColor(gray_img, cv2.COLOR_GRAY2BGR)"
   ]
  },
  {
   "cell_type": "code",
   "execution_count": 5,
   "id": "656e0ea8",
   "metadata": {},
   "outputs": [
    {
     "data": {
      "text/plain": [
       "(740, 756, 3)"
      ]
     },
     "execution_count": 5,
     "metadata": {},
     "output_type": "execute_result"
    }
   ],
   "source": [
    "# 기본 이미지는 3차원, 채널이 세 개\n",
    "img.shape"
   ]
  },
  {
   "cell_type": "code",
   "execution_count": 4,
   "id": "32e767a0",
   "metadata": {},
   "outputs": [
    {
     "data": {
      "text/plain": [
       "(740, 756)"
      ]
     },
     "execution_count": 4,
     "metadata": {},
     "output_type": "execute_result"
    }
   ],
   "source": [
    "# 회색 이미지는 2차원\n",
    "gray_img.shape"
   ]
  },
  {
   "cell_type": "markdown",
   "id": "a8b512ed",
   "metadata": {},
   "source": [
    "# 1. 그레이 이미지에 크롭하면 새창으로 원본 색상 띄우기"
   ]
  },
  {
   "cell_type": "code",
   "execution_count": 29,
   "id": "f9cab5f5",
   "metadata": {},
   "outputs": [],
   "source": [
    "isDragging = False                      # 마우스 드래그 상태 저장\n",
    "\n",
    "x0, y0, w, h = -1,-1,-1,-1              # 영역 선택 좌표 저장\n",
    "blue, red = (255,0,0),(0,0,255)         # 색상 값\n",
    "\n",
    "\n",
    "# 함수 선언할 때 전역변수 필요하면 꼭 global 선언해주기\n",
    "def onMouse(event,x,y,flags,param):     # 마우스 이벤트 핸들 함수\n",
    "    global isDragging, x0, y0, img, gray_img_3channel      # 전역변수 참조\n",
    "    \n",
    "    if event == cv2.EVENT_LBUTTONDOWN:  # 왼쪽 마우스 버튼 다운, 드래그 시작 \n",
    "        isDragging = True\n",
    "        x0 = x\n",
    "        y0 = y\n",
    "    \n",
    "    elif event == cv2.EVENT_MOUSEMOVE:  # 마우스 움직임\n",
    "        if isDragging:                  # 드래그 진행 중\n",
    "            img_draw = img.copy()       # 사각형 그림 표현을 위한 이미지 복제\n",
    "            cv2.rectangle(img_draw, (x0, y0), (x, y), blue, 2) # 드래그 진행 영역 표시\n",
    "            cv2.imshow('img', img_draw) # 사각형 표시된 그림 화면 출력\n",
    "    \n",
    "    elif event == cv2.EVENT_LBUTTONUP:  # 왼쪽 마우스 버튼 업\n",
    "        if isDragging:                  # 드래그 중지\n",
    "            isDragging = False\n",
    "            w = x - x0                  # 드래그 영역 폭 계산\n",
    "            h = y - y0                  # 드래그 영역 높이 계산\n",
    "            print(\"x:%d, y:%d, w:%d, h:%d\" % (x0, y0, w, h))\n",
    "            \n",
    "            if w > 0 and h > 0:         # 폭과 높이가 음수이면 드래그 방향이 옳음 \n",
    "                img_draw = img.copy()   # 선택 영역에 사각형 그림을 표시할 이미지 복제\n",
    "                # 선택 영역에 빨간 사각형 표시\n",
    "                cv2.rectangle(img_draw, (x0, y0), (x, y), red, 2)\n",
    "                cv2.imshow('img', gray_img_3channel) # 빨간 사각형 그려진 이미지 화면 출력\n",
    "                roi = img[y0:y0+h, x0:x0+w] # 원본 이미지에서 선택 영영만 ROI로 지정 \n",
    "                cv2.imshow('cropped', roi)  # ROI 지정 영역을 새창으로 표시\n",
    "                cv2.moveWindow('cropped', 0, 0) # 새창을 화면 좌측 상단에 이동\n",
    "                cv2.imwrite('./cropped.jpg', roi)   # ROI 영역만 파일로 저장 \n",
    "                print(\"croped.\")\n",
    "                \n",
    "            else:\n",
    "                cv2.imshow('img', gray_img_3channel)  # 드래그 방향이 잘못된 경우 사각형 그림이 없는 원본 이미지 출력\n",
    "                print(\"좌측 상단에서 우측 하단으로 영역을 드래그 하세요.\")\n",
    "            "
   ]
  },
  {
   "cell_type": "code",
   "execution_count": 32,
   "id": "7575363c",
   "metadata": {},
   "outputs": [
    {
     "name": "stdout",
     "output_type": "stream",
     "text": [
      "x:262, y:248, w:243, h:227\n",
      "croped.\n"
     ]
    }
   ],
   "source": [
    "img = cv2.imread('../textbook/img/cube.jpg')\n",
    "cv2.imshow('img', gray_img_3channel)\n",
    "cv2.setMouseCallback('img', onMouse) # 마우스 이벤트 등록\n",
    "cv2.waitKey()\n",
    "cv2.destroyAllWindows()"
   ]
  },
  {
   "cell_type": "markdown",
   "id": "53278fda",
   "metadata": {},
   "source": [
    "- 완벽하게는 아니지만 어느정도 됐당.\n",
    "- 근데 원본 이미지의 붉은색 부분 테두리가 아예 흰색으로 처리된다 → 코드가 잘못 되었던 부분이 있었던 듯. 23일엔 멀쩡함.\n",
    "- 오 근데 이걸 좀 변형하면 해당 부분만 색깔있게 표시할 수 있겠다."
   ]
  },
  {
   "cell_type": "markdown",
   "id": "70551ff0",
   "metadata": {},
   "source": [
    "# 2. 크롭한 부분 색상만 원본 색상으로 비추기"
   ]
  },
  {
   "cell_type": "code",
   "execution_count": 10,
   "id": "c6459afa",
   "metadata": {},
   "outputs": [],
   "source": [
    "isDragging = False                      # 마우스 드래그 상태 저장\n",
    "\n",
    "x0, y0, w, h = -1,-1,-1,-1              # 영역 선택 좌표 저장\n",
    "blue, red = (255,0,0),(0,0,255)         # 색상 값\n",
    "\n",
    "\n",
    "# 함수 선언할 때 전역변수 필요하면 꼭 global 선언해주기\n",
    "def onMouse(event,x,y,flags,param):     # 마우스 이벤트 핸들 함수\n",
    "    global isDragging, x0, y0, img, gray_img_3channel      # 전역변수 참조\n",
    "    \n",
    "    gray_img = gray_img_3channel.copy()\n",
    "    if event == cv2.EVENT_LBUTTONDOWN:  # 왼쪽 마우스 버튼 다운, 드래그 시작\n",
    "        isDragging = True\n",
    "        x0 = x\n",
    "        y0 = y\n",
    "    \n",
    "    elif event == cv2.EVENT_MOUSEMOVE:  # 마우스 움직임 \n",
    "        if isDragging:                  # 드래그 진행 중\n",
    "            img_draw = img.copy()       # 사각형 그림 표현을 위한 이미지 복제\n",
    "            cv2.rectangle(img_draw, (x0, y0), (x, y), blue, 2) # 드래그 진행 영역 표시\n",
    "            cv2.imshow('img', img_draw) # 사각형 표시된 그림 화면 출력\n",
    "    \n",
    "    elif event == cv2.EVENT_LBUTTONUP:  # 왼쪽 마우스 버튼 업 \n",
    "        if isDragging:                  # 드래그 중지\n",
    "            isDragging = False\n",
    "            w = x - x0                  # 드래그 영역 폭 계산\n",
    "            h = y - y0                  # 드래그 영역 높이 계산\n",
    "            print(\"x:%d, y:%d, w:%d, h:%d\" % (x0, y0, w, h))\n",
    "            \n",
    "            if w > 0 and h > 0:         # 폭과 높이가 음수이면 드래그 방향이 옳음 \n",
    "                img_draw = img.copy()    # 선택 영역에 사각형 그림을 표시할 이미지 복제\n",
    "                cv2.imshow('img', gray_img) # 빨간 사각형 그려진 이미지 화면 출력\n",
    "                roi = img[y0:y0+h, x0:x0+w] # 원본 이미지에서 선택 영역만 ROI로 지정 \n",
    "                gray_img[y0:y0+h, x0:x0+w] = roi\n",
    "                cv2.imshow('img', gray_img)\n",
    "                \n",
    "            else:\n",
    "                cv2.imshow('img', gray_img)  # 드래그 방향이 잘못된 경우 사각형 그림이 없는 원본 이미지 출력\n",
    "                print(\"좌측 상단에서 우측 하단으로 영역을 드래그 하세요.\")\n",
    "            "
   ]
  },
  {
   "cell_type": "code",
   "execution_count": 11,
   "id": "fd88479b",
   "metadata": {},
   "outputs": [
    {
     "name": "stdout",
     "output_type": "stream",
     "text": [
      "x:248, y:158, w:415, h:325\n",
      "x:129, y:204, w:239, h:296\n",
      "x:374, y:269, w:303, h:263\n",
      "x:372, y:242, w:182, h:257\n"
     ]
    }
   ],
   "source": [
    "img = cv2.imread('../textbook/img/cube.jpg')\n",
    "cv2.imshow('img', gray_img_3channel)\n",
    "cv2.setMouseCallback('img', onMouse) # 마우스 이벤트 등록 \n",
    "cv2.waitKey()\n",
    "cv2.destroyAllWindows()"
   ]
  }
 ],
 "metadata": {
  "kernelspec": {
   "display_name": "Python 3 (ipykernel)",
   "language": "python",
   "name": "python3"
  },
  "language_info": {
   "codemirror_mode": {
    "name": "ipython",
    "version": 3
   },
   "file_extension": ".py",
   "mimetype": "text/x-python",
   "name": "python",
   "nbconvert_exporter": "python",
   "pygments_lexer": "ipython3",
   "version": "3.10.9"
  }
 },
 "nbformat": 4,
 "nbformat_minor": 5
}
